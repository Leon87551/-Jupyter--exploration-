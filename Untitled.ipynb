{
 "cells": [
  {
   "cell_type": "markdown",
   "id": "58be3093-c1f0-4497-b02c-7c6a64b1b0ac",
   "metadata": {},
   "source": [
    "\"My first markdown cell in jupiter\""
   ]
  },
  {
   "cell_type": "code",
   "execution_count": 1,
   "id": "f6f8442e-94d5-47ad-93fa-9fcfbe6d2551",
   "metadata": {},
   "outputs": [
    {
     "name": "stdout",
     "output_type": "stream",
     "text": [
      "Hello, World\n"
     ]
    }
   ],
   "source": [
    "print(\"Hello, World\")"
   ]
  },
  {
   "cell_type": "code",
   "execution_count": null,
   "id": "4d33e2d2-b009-41c0-b02a-68065b6eb99e",
   "metadata": {},
   "outputs": [],
   "source": []
  }
 ],
 "metadata": {
  "kernelspec": {
   "display_name": "Python 3 (ipykernel)",
   "language": "python",
   "name": "python3"
  },
  "language_info": {
   "codemirror_mode": {
    "name": "ipython",
    "version": 3
   },
   "file_extension": ".py",
   "mimetype": "text/x-python",
   "name": "python",
   "nbconvert_exporter": "python",
   "pygments_lexer": "ipython3",
   "version": "3.11.7"
  }
 },
 "nbformat": 4,
 "nbformat_minor": 5
}
